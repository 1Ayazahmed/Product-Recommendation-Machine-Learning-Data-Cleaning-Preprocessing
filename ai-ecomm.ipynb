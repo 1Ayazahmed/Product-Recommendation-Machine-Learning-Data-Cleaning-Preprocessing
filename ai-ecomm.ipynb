{
 "cells": [
  {
   "cell_type": "raw",
   "id": "400c186d-9a0a-49c6-86f7-ad92358ed383",
   "metadata": {},
   "source": [
    "# Step 1: Load Packages and Libraries\n"
   ]
  },
  {
   "cell_type": "code",
   "execution_count": null,
   "id": "bc3c23d8-d973-4068-8f70-a6ab72e3a8e2",
   "metadata": {},
   "outputs": [],
   "source": [
    "# Data manipulation\n",
    "import pandas as pd  # for data cleaning and operations\n",
    "import numpy as np   # for numerical operations and array handling\n",
    "\n",
    "# Data visualization\n",
    "import matplotlib.pyplot as plt  # for basic plotting\n",
    "import seaborn as sns  # for enhanced visualizations\n",
    "\n",
    "# Machine learning and text processing\n",
    "from sklearn.feature_extraction.text import TfidfVectorizer  # for text vectorization\n",
    "from sklearn.metrics.pairwise import cosine_similarity  # for similarity calculations\n",
    "\n",
    "# Additional utilities\n",
    "import os  # for operating system interactions\n",
    "from scipy.sparse import coo_matrix  # for sparse matrix operations"
   ]
  },
  {
   "cell_type": "code",
   "execution_count": null,
   "id": "52f9e803-42b9-4fc2-b519-e29b01ca5f74",
   "metadata": {},
   "outputs": [],
   "source": [
    "#Data Loading and preprocessing \n",
    "train_data=pd.read_csv('marketing_sample_for_walmart_5k_data.tsv',sep='\\t')\n",
    "print(\"=====================================================================================================================================================================================================================================================================================================================================\")\n",
    "sample=train_data.columns\n",
    "print(sample)\n",
    "print(\"=====================================================================================================================================================================================================================================================================================================================================\")"
   ]
  },
  {
   "cell_type": "code",
   "execution_count": null,
   "id": "c119f214",
   "metadata": {},
   "outputs": [],
   "source": [
    "# Basic Operations\n",
    "# train_data['Product Tags'] # shows specific column data\n",
    "# train_data.shape #used to show total data of datasheet\n",
    "train_data.isnull().sum() #used to show columns with null values\n",
    "# train_data['Product Rating'].fillna(0,inplace=true)\n",
    "train_data.duplicated().sum() # used to check all duplictes data in file"
   ]
  },
  {
   "cell_type": "code",
   "execution_count": null,
   "id": "e099f100",
   "metadata": {},
   "outputs": [],
   "source": [
    "train_data['Product Rating'].fillna(0,inplace=True)  #used to fill the nan values \n",
    "train_data[\"Product Reviews Count\"].fillna(0,inplace=True)  #used to fill the nan values \n",
    "train_data['Product Category'].fillna('',inplace=True)  #used to fill the nan values \n",
    "train_data['Product Brand'].fillna('',inplace=True)  #used to fill the nan values \n",
    "train_data['Product Description'].fillna('',inplace=True)  #used to fill the nan values "
   ]
  },
  {
   "cell_type": "code",
   "execution_count": null,
   "id": "42f4f134",
   "metadata": {},
   "outputs": [],
   "source": [
    "#for shorter name\n",
    "column_name_mapping = {   #is called dictionary\n",
    "    'Uniq Id': 'ID',\n",
    "    'Product Id': 'ProdID',\n",
    "    'Product Rating': 'Rating',\n",
    "    'Product Reviews Count': 'ReviewCount',\n",
    "    'Product Category': 'Category',\n",
    "    'Product Brand': 'Brand',\n",
    "    'Product Name': 'Name',\n",
    "    'Product Image Url': 'ImageURL',\n",
    "    'Product Description': 'Description',\n",
    "    'Product Tags': 'Tags',\n",
    "    'Product Contents': 'Contents'\n",
    "}\n",
    "train_data.rename(columns=column_name_mapping, inplace=True)"
   ]
  },
  {
   "cell_type": "code",
   "execution_count": null,
   "id": "72cc3efd",
   "metadata": {},
   "outputs": [],
   "source": [
    "train_data['ID']=train_data['ID'].str.extract(r'(\\d+)').astype(float)\n",
    "train_data['ProdID']=train_data['ProdID'].str.extract(r'(\\d+)').astype(float)\n"
   ]
  },
  {
   "cell_type": "code",
   "execution_count": null,
   "id": "52840d25",
   "metadata": {},
   "outputs": [],
   "source": [
    "# EDA (Exploratory Data Analysis)\n",
    "\n",
    "num_users = train_data['ID'].nunique()\n",
    "num_items = train_data['ProdID'].nunique()\n",
    "num_ratings = train_data['Rating'].nunique()\n",
    "print(f\"Number Of Unique Users\", {num_users})\n",
    "print(f\"Number Of Unique Items\", {num_items})\n",
    "print(f\"Number Of Unique Rating\", {num_ratings})\n",
    "\n",
    "\n",
    "\n",
    "\n"
   ]
  },
  {
   "cell_type": "code",
   "execution_count": null,
   "id": "44885da0",
   "metadata": {},
   "outputs": [],
   "source": [
    "# Pivot the dataframe to create heatmap\n",
    "heatmap_data = train_data.pivot_table('ID',\"Rating\")\n",
    "# Creating heatmap\n",
    "plt.figure(figsize=(12,10))\n",
    "sns.heatmap(heatmap_data, annot=True, fmt='g', cmap='coolwarm', cbar=True)\n",
    "plt.title('Heatmap Of User Ratings')\n",
    "plt.xlabel('Ratings')\n",
    "plt.ylabel('User ID')\n",
    "plt.show()\n",
    "\n"
   ]
  },
  {
   "cell_type": "code",
   "execution_count": null,
   "id": "b8361cbd",
   "metadata": {},
   "outputs": [],
   "source": [
    "# Distribution Of Interaction\n",
    "plt.figure(figsize=(12,5))\n",
    "plt.subplot(1,2,1)\n",
    "train_data['ID'].value_counts().hist(bins=10, edgecolor='k')\n",
    "plt.xlabel(\"Interactions Per User\")\n",
    "plt.ylabel(\"Number Of Users\")\n",
    "plt.title(\"Distribution Of Interactions Per User\")\n",
    "\n",
    "plt.subplot(1,2,2)\n",
    "train_data['ProdID'].value_counts().hist(bins=10, edgecolor='k', color='green')\n",
    "plt.xlabel(\"Interactions Per Items\")\n",
    "plt.ylabel(\"Number Of Items\")\n",
    "plt.title(\"Distribution Of Interactions Per Items\")\n",
    "\n",
    "plt.tight_layout()\n",
    "plt.show()\n",
    "\n",
    "\n"
   ]
  },
  {
   "cell_type": "code",
   "execution_count": 95,
   "id": "39cde313",
   "metadata": {},
   "outputs": [
    {
     "data": {
      "text/plain": [
       "Text(0.5, 1.0, 'Most Popular Items')"
      ]
     },
     "execution_count": 95,
     "metadata": {},
     "output_type": "execute_result"
    },
    {
     "data": {
      "image/png": "[encoded data removed]",
      "text/plain": [
       "<Figure size 640x480 with 1 Axes>"
      ]
     },
     "metadata": {},
     "output_type": "display_data"
    }
   ],
   "source": [
    "# Most Popular Items\n",
    "popular_items = train_data['ProdID'].value_counts().head(5)\n",
    "popular_items.plot(kind='bar',color='blue')\n",
    "plt.title(\"Most Popular Items\")"
   ]
  }
 ],
 "metadata": {
  "kernelspec": {
   "display_name": "Python 3 (ipykernel)",
   "language": "python",
   "name": "python3"
  },
  "language_info": {
   "codemirror_mode": {
    "name": "ipython",
    "version": 3
   },
   "file_extension": ".py",
   "mimetype": "text/x-python",
   "name": "python",
   "nbconvert_exporter": "python",
   "pygments_lexer": "ipython3",
   "version": "3.13.4"
  }
 },
 "nbformat": 4,
 "nbformat_minor": 5
}
