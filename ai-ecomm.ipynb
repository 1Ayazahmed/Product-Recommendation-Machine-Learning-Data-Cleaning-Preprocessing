{
 "cells": [
  {
   "cell_type": "raw",
   "id": "400c186d-9a0a-49c6-86f7-ad92358ed383",
   "metadata": {},
   "source": [
    "# Step 1: Load Packages and Libraries\n"
   ]
  },
  {
   "cell_type": "code",
   "execution_count": null,
   "id": "bc3c23d8-d973-4068-8f70-a6ab72e3a8e2",
   "metadata": {},
   "outputs": [],
   "source": [
    "# Data manipulation\n",
    "import pandas as pd  # for data cleaning and operations\n",
    "import numpy as np   # for numerical operations and array handling\n",
    "\n",
    "# Data visualization\n",
    "import matplotlib.pyplot as plt  # for basic plotting\n",
    "import seaborn as sns  # for enhanced visualizations\n",
    "\n",
    "# Machine learning and text processing\n",
    "from sklearn.feature_extraction.text import TfidfVectorizer  # for text vectorization\n",
    "from sklearn.metrics.pairwise import cosine_similarity  # for similarity calculations\n",
    "\n",
    "# Additional utilities\n",
    "import os  # for operating system interactions\n",
    "from scipy.sparse import coo_matrix  # for sparse matrix operations"
   ]
  },
  {
   "cell_type": "code",
   "execution_count": null,
   "id": "52f9e803-42b9-4fc2-b519-e29b01ca5f74",
   "metadata": {},
   "outputs": [],
   "source": [
    "#Data Loading and preprocessing \n",
    "train_data=pd.read_csv('marketing_sample_for_walmart_5k_data.tsv',sep='\\t')\n",
    "print(\"=====================================================================================================================================================================================================================================================================================================================================\")\n",
    "sample=train_data.columns\n",
    "print(sample)\n",
    "print(\"=====================================================================================================================================================================================================================================================================================================================================\")"
   ]
  },
  {
   "cell_type": "code",
   "execution_count": null,
   "id": "c119f214",
   "metadata": {},
   "outputs": [],
   "source": [
    "# Basic Operations\n",
    "# train_data['Product Tags'] # shows specific column data\n",
    "# train_data.shape #used to show total data of datasheet\n",
    "train_data.isnull().sum() #used to show columns with null values\n",
    "# train_data['Product Rating'].fillna(0,inplace=true)\n",
    "train_data.duplicated().sum() # used to check all duplictes data in file"
   ]
  },
  {
   "cell_type": "code",
   "execution_count": null,
   "id": "e099f100",
   "metadata": {},
   "outputs": [],
   "source": [
    "train_data['Product Rating'].fillna(0,inplace=True)  #used to fill the nan values \n",
    "train_data[\"Product Reviews Count\"].fillna(0,inplace=True)  #used to fill the nan values \n",
    "train_data['Product Category'].fillna('',inplace=True)  #used to fill the nan values \n",
    "train_data['Product Brand'].fillna('',inplace=True)  #used to fill the nan values \n",
    "train_data['Product Description'].fillna('',inplace=True)  #used to fill the nan values "
   ]
  },
  {
   "cell_type": "code",
   "execution_count": null,
   "id": "42f4f134",
   "metadata": {},
   "outputs": [],
   "source": [
    "#for shorter name\n",
    "column_name_mapping = {   #is called dictionary\n",
    "    'Uniq Id': 'ID',\n",
    "    'Product Id': 'ProdID',\n",
    "    'Product Rating': 'Rating',\n",
    "    'Product Reviews Count': 'ReviewCount',\n",
    "    'Product Category': 'Category',\n",
    "    'Product Brand': 'Brand',\n",
    "    'Product Name': 'Name',\n",
    "    'Product Image Url': 'ImageURL',\n",
    "    'Product Description': 'Description',\n",
    "    'Product Tags': 'Tags',\n",
    "    'Product Contents': 'Contents'\n",
    "}\n",
    "train_data.rename(columns=column_name_mapping, inplace=True)"
   ]
  },
  {
   "cell_type": "code",
   "execution_count": null,
   "id": "72cc3efd",
   "metadata": {},
   "outputs": [],
   "source": [
    "train_data['ID']=train_data['ID'].str.extract(r'(\\d+)').astype(float)\n",
    "train_data['ProdID']=train_data['ProdID'].str.extract(r'(\\d+)').astype(float)\n"
   ]
  },
  {
   "cell_type": "code",
   "execution_count": null,
   "id": "52840d25",
   "metadata": {},
   "outputs": [],
   "source": [
    "# EDA (Exploratory Data Analysis)\n",
    "\n",
    "num_users = train_data['ID'].nunique()\n",
    "num_items = train_data['ProdID'].nunique()\n",
    "num_ratings = train_data['Rating'].nunique()\n",
    "print(f\"Number Of Unique Users\", {num_users})\n",
    "print(f\"Number Of Unique Items\", {num_items})\n",
    "print(f\"Number Of Unique Rating\", {num_ratings})\n",
    "\n",
    "\n",
    "\n",
    "\n"
   ]
  },
  {
   "cell_type": "code",
   "execution_count": null,
   "id": "44885da0",
   "metadata": {},
   "outputs": [],
   "source": [
    "# Pivot the dataframe to create heatmap\n",
    "heatmap_data = train_data.pivot_table('ID',\"Rating\")\n",
    "# Creating heatmap\n",
    "plt.figure(figsize=(12,10))\n",
    "sns.heatmap(heatmap_data, annot=True, fmt='g', cmap='coolwarm', cbar=True)\n",
    "plt.title('Heatmap Of User Ratings')\n",
    "plt.xlabel('Ratings')\n",
    "plt.ylabel('User ID')\n",
    "plt.show()\n",
    "\n"
   ]
  },
  {
   "cell_type": "code",
   "execution_count": null,
   "id": "b8361cbd",
   "metadata": {},
   "outputs": [
    {
     "ename": "TypeError",
     "evalue": "subplot() takes 1 or 3 positional arguments but 2 were given",
     "output_type": "error",
     "traceback": [
      "\u001b[31m---------------------------------------------------------------------------\u001b[39m",
      "\u001b[31mTypeError\u001b[39m                                 Traceback (most recent call last)",
      "\u001b[36mCell\u001b[39m\u001b[36m \u001b[39m\u001b[32mIn[93]\u001b[39m\u001b[32m, line 3\u001b[39m\n\u001b[32m      1\u001b[39m \u001b[38;5;66;03m# Distribution Of Interaction\u001b[39;00m\n\u001b[32m      2\u001b[39m plt.figure(figsize=(\u001b[32m12\u001b[39m,\u001b[32m5\u001b[39m))\n\u001b[32m----> \u001b[39m\u001b[32m3\u001b[39m \u001b[43mplt\u001b[49m\u001b[43m.\u001b[49m\u001b[43mSubplot\u001b[49m\u001b[43m(\u001b[49m\u001b[32;43m1\u001b[39;49m\u001b[43m,\u001b[49m\u001b[32;43m2\u001b[39;49m\u001b[43m,\u001b[49m\u001b[32;43m1\u001b[39;49m\u001b[43m)\u001b[49m\n\u001b[32m      4\u001b[39m train_data[\u001b[33m'\u001b[39m\u001b[33mID\u001b[39m\u001b[33m'\u001b[39m].value_counts().hist(bins=\u001b[32m10\u001b[39m, edgecolor=\u001b[33m'\u001b[39m\u001b[33mk\u001b[39m\u001b[33m'\u001b[39m)\n\u001b[32m      5\u001b[39m plt.xlabel(\u001b[33m\"\u001b[39m\u001b[33mInteractions Per User\u001b[39m\u001b[33m\"\u001b[39m)\n",
      "\u001b[36mFile \u001b[39m\u001b[32mc:\\Users\\Ayaz Ahmed\\AppData\\Local\\Programs\\Python\\Python313\\Lib\\site-packages\\matplotlib\\axes\\_base.py:692\u001b[39m, in \u001b[36m_AxesBase.__init__\u001b[39m\u001b[34m(self, fig, facecolor, frameon, sharex, sharey, label, xscale, yscale, box_aspect, forward_navigation_events, *args, **kwargs)\u001b[39m\n\u001b[32m    690\u001b[39m \u001b[38;5;28;01melse\u001b[39;00m:\n\u001b[32m    691\u001b[39m     \u001b[38;5;28mself\u001b[39m._position = \u001b[38;5;28mself\u001b[39m._originalPosition = mtransforms.Bbox.unit()\n\u001b[32m--> \u001b[39m\u001b[32m692\u001b[39m     subplotspec = \u001b[43mSubplotSpec\u001b[49m\u001b[43m.\u001b[49m\u001b[43m_from_subplot_args\u001b[49m\u001b[43m(\u001b[49m\u001b[43mfig\u001b[49m\u001b[43m,\u001b[49m\u001b[43m \u001b[49m\u001b[43margs\u001b[49m\u001b[43m)\u001b[49m\n\u001b[32m    693\u001b[39m \u001b[38;5;28;01mif\u001b[39;00m \u001b[38;5;28mself\u001b[39m._position.width < \u001b[32m0\u001b[39m \u001b[38;5;129;01mor\u001b[39;00m \u001b[38;5;28mself\u001b[39m._position.height < \u001b[32m0\u001b[39m:\n\u001b[32m    694\u001b[39m     \u001b[38;5;28;01mraise\u001b[39;00m \u001b[38;5;167;01mValueError\u001b[39;00m(\u001b[33m'\u001b[39m\u001b[33mWidth and height specified must be non-negative\u001b[39m\u001b[33m'\u001b[39m)\n",
      "\u001b[36mFile \u001b[39m\u001b[32mc:\\Users\\Ayaz Ahmed\\AppData\\Local\\Programs\\Python\\Python313\\Lib\\site-packages\\matplotlib\\gridspec.py:576\u001b[39m, in \u001b[36mSubplotSpec._from_subplot_args\u001b[39m\u001b[34m(figure, args)\u001b[39m\n\u001b[32m    574\u001b[39m     rows, cols, num = args\n\u001b[32m    575\u001b[39m \u001b[38;5;28;01melse\u001b[39;00m:\n\u001b[32m--> \u001b[39m\u001b[32m576\u001b[39m     \u001b[38;5;28;01mraise\u001b[39;00m _api.nargs_error(\u001b[33m\"\u001b[39m\u001b[33msubplot\u001b[39m\u001b[33m\"\u001b[39m, takes=\u001b[33m\"\u001b[39m\u001b[33m1 or 3\u001b[39m\u001b[33m\"\u001b[39m, given=\u001b[38;5;28mlen\u001b[39m(args))\n\u001b[32m    578\u001b[39m gs = GridSpec._check_gridspec_exists(figure, rows, cols)\n\u001b[32m    579\u001b[39m \u001b[38;5;28;01mif\u001b[39;00m gs \u001b[38;5;129;01mis\u001b[39;00m \u001b[38;5;28;01mNone\u001b[39;00m:\n",
      "\u001b[31mTypeError\u001b[39m: subplot() takes 1 or 3 positional arguments but 2 were given"
     ]
    },
    {
     "data": {
      "text/plain": [
       "<Figure size 1200x500 with 0 Axes>"
      ]
     },
     "metadata": {},
     "output_type": "display_data"
    }
   ],
   "source": [
    "# Distribution Of Interaction\n",
    "plt.figure(figsize=(12,5))\n",
    "plt.subplot(1,2,1)\n",
    "train_data['ID'].value_counts().hist(bins=10, edgecolor='k')\n",
    "plt.xlabel(\"Interactions Per User\")\n",
    "plt.ylabel(\"Number Of Users\")\n",
    "plt.title(\"Distribution Of Interactions Per User\")\n",
    "\n",
    "plt.subplot(1,2,2)\n",
    "train_data['ProdID'].value_counts().hist(bins=10, edgecolor='k', color='green')\n",
    "plt.xlabel(\"Interactions Per Items\")\n",
    "plt.ylabel(\"Number Of Items\")\n",
    "plt.title(\"Distribution Of Interactions Per Items\")\n",
    "\n",
    "plt.tight_layout()\n",
    "plt.show()\n",
    "\n",
    "\n"
   ]
  }
 ],
 "metadata": {
  "kernelspec": {
   "display_name": "Python 3 (ipykernel)",
   "language": "python",
   "name": "python3"
  },
  "language_info": {
   "codemirror_mode": {
    "name": "ipython",
    "version": 3
   },
   "file_extension": ".py",
   "mimetype": "text/x-python",
   "name": "python",
   "nbconvert_exporter": "python",
   "pygments_lexer": "ipython3",
   "version": "3.13.4"
  }
 },
 "nbformat": 4,
 "nbformat_minor": 5
}
